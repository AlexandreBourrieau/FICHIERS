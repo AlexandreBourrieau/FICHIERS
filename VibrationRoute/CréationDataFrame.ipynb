{
  "nbformat": 4,
  "nbformat_minor": 0,
  "metadata": {
    "colab": {
      "provenance": []
    },
    "kernelspec": {
      "name": "python3",
      "display_name": "Python 3"
    },
    "language_info": {
      "name": "python"
    }
  },
  "cells": [
    {
      "cell_type": "markdown",
      "source": [
        "# Création du DataFrame au format Pandas"
      ],
      "metadata": {
        "id": "1BIF30O6jyn7"
      }
    },
    {
      "cell_type": "code",
      "source": [
        "import pandas as pd\n",
        "import os"
      ],
      "metadata": {
        "id": "RGA-eYdjq9G9"
      },
      "execution_count": null,
      "outputs": []
    },
    {
      "cell_type": "code",
      "execution_count": null,
      "metadata": {
        "id": "RQP9ggDrjxsl"
      },
      "outputs": [],
      "source": [
        "# Téléchargement et extraction des fichiers\n",
        "\n",
        "!wget -O DataSimu.rar -q http://62.210.208.36/DataSimu.rar\n",
        "!unrar -inul -o+ x /content/DataSimu.rar"
      ]
    },
    {
      "cell_type": "code",
      "source": [
        "# Création d'une liste contenant les noms des fichiers\n",
        "# format : grade_X_vY_pZ.txt\n",
        "# X : Grade de la route (A,B,C,D,E,F,G,H)\n",
        "# Y : Vitesse utilisée\n",
        "# Z : Pression utilisée\n",
        "\n",
        "fichiers = []\n",
        "for fichier in os.listdir(\"/content/DataSimu/\"):\n",
        "  fichiers.append(fichier)"
      ],
      "metadata": {
        "id": "5aiEZgBjnyJU"
      },
      "execution_count": null,
      "outputs": []
    },
    {
      "cell_type": "code",
      "source": [
        "# Création d'une liste contenant les dataframes\n",
        "dataframes = []\n",
        "\n",
        "for fichier in fichiers:\n",
        "  dataframes.append(pd.read_csv(\"/content/DataSimu/\"+fichier))\n",
        "  dataframes[-1] = dataframes[-1].rename(columns={dataframes[-1].columns[0]:\"Temps (s)\"})\n",
        "  dataframes[-1] = dataframes[-1].rename(columns={dataframes[-1].columns[1]:fichier.split(\"_\")[1]+\"_\"+fichier.split(\"_\")[2]+\"_\"+fichier.split(\"_\")[3].split(\".txt\")[0]})\n",
        "  dataframes[-1] = dataframes[-1].set_index(\"Temps (s)\")"
      ],
      "metadata": {
        "id": "z0we6LC9qvBY"
      },
      "execution_count": null,
      "outputs": []
    },
    {
      "cell_type": "code",
      "source": [
        "# Concaténation des dataframes\n",
        "\n",
        "df = pd.merge_asof(dataframes[0],dataframes[1],on=\"Temps (s)\")\n",
        "for i in range(2,len(dataframes)):\n",
        "  df = pd.merge_asof(df,dataframes[i],on=\"Temps (s)\")"
      ],
      "metadata": {
        "id": "ibb-hy3ArHcf"
      },
      "execution_count": null,
      "outputs": []
    },
    {
      "cell_type": "code",
      "source": [
        "df"
      ],
      "metadata": {
        "id": "CtEAV8Ckxr4N"
      },
      "execution_count": null,
      "outputs": []
    },
    {
      "cell_type": "markdown",
      "source": [
        "# Exportation au format CSV"
      ],
      "metadata": {
        "id": "ugLDu-e91jK1"
      }
    },
    {
      "cell_type": "code",
      "source": [
        "compression_opts = dict(method='zip',archive_name='DataFrameGlobal.csv')  \n",
        "df.to_csv(\"DataFrameGlobal.zip\", index=False, compression=compression_opts)"
      ],
      "metadata": {
        "id": "M7_9Io4b1mBP"
      },
      "execution_count": null,
      "outputs": []
    },
    {
      "cell_type": "code",
      "source": [
        "from google.colab import files\n",
        "files.download('DataFrameGlobal.zip')"
      ],
      "metadata": {
        "id": "5LZu-EQL21kU"
      },
      "execution_count": null,
      "outputs": []
    }
  ]
}