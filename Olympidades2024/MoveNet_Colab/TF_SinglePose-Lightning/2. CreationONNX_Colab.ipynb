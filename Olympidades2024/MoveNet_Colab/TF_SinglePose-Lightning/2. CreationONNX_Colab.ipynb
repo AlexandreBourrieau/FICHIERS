{
 "cells": [
  {
   "cell_type": "code",
   "execution_count": null,
   "metadata": {
    "id": "Kdlx8FnOlN74"
   },
   "outputs": [],
   "source": [
    "!tar -xf \"/home/jetson/notebook/Move/TFSinglePosteLightning.tar.gz\" --directory SavedModel\n",
    "!rm TFSinglePosteLightning.tar.gz"
   ]
  },
  {
   "cell_type": "code",
   "execution_count": null,
   "metadata": {},
   "outputs": [],
   "source": [
    "!python3 -m tf2onnx.convert --opset 17 --saved-model \"SavedModel\" --output \"/home/jetson/notebook/Move/model_jetson.onnx\""
   ]
  },
  {
   "cell_type": "code",
   "execution_count": null,
   "metadata": {},
   "outputs": [],
   "source": []
  }
 ],
 "metadata": {
  "accelerator": "GPU",
  "colab": {
   "gpuType": "A100",
   "machine_shape": "hm",
   "provenance": []
  },
  "kernelspec": {
   "display_name": "Python 3",
   "language": "python",
   "name": "python3"
  },
  "language_info": {
   "codemirror_mode": {
    "name": "ipython",
    "version": 3
   },
   "file_extension": ".py",
   "mimetype": "text/x-python",
   "name": "python",
   "nbconvert_exporter": "python",
   "pygments_lexer": "ipython3",
   "version": "3.6.9"
  }
 },
 "nbformat": 4,
 "nbformat_minor": 4
}
