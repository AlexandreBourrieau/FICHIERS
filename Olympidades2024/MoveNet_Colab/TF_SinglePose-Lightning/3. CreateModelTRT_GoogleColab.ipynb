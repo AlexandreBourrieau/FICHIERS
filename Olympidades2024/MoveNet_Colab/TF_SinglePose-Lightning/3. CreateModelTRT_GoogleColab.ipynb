{
  "nbformat": 4,
  "nbformat_minor": 0,
  "metadata": {
    "colab": {
      "provenance": [],
      "machine_shape": "hm",
      "gpuType": "A100"
    },
    "kernelspec": {
      "name": "python3",
      "display_name": "Python 3"
    },
    "language_info": {
      "name": "python"
    },
    "accelerator": "GPU"
  },
  "cells": [
    {
      "cell_type": "code",
      "source": [
        "!sudo apt install tensorrt"
      ],
      "metadata": {
        "id": "jwIU0IOjszlX"
      },
      "execution_count": null,
      "outputs": []
    },
    {
      "cell_type": "code",
      "source": [
        "!/usr/src/tensorrt/bin/trtexec --fp16 --onnx=\"/content/model.onnx\" --saveEngine=\"/content/model.engine\""
      ],
      "metadata": {
        "id": "DmDvMG66uol7"
      },
      "execution_count": null,
      "outputs": []
    }
  ]
}