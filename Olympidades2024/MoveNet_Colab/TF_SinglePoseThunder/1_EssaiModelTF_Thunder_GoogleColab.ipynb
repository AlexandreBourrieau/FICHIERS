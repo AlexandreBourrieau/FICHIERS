{
  "nbformat": 4,
  "nbformat_minor": 0,
  "metadata": {
    "colab": {
      "provenance": [],
      "machine_shape": "hm",
      "gpuType": "T4"
    },
    "kernelspec": {
      "name": "python3",
      "display_name": "Python 3"
    },
    "language_info": {
      "name": "python"
    },
    "accelerator": "GPU"
  },
  "cells": [
    {
      "cell_type": "markdown",
      "source": [
        "## **movenet : SinglePose - Thunder**"
      ],
      "metadata": {
        "id": "EbcLRYQRfaLD"
      }
    },
    {
      "cell_type": "markdown",
      "source": [
        "Input : 256x256x3"
      ],
      "metadata": {
        "id": "mzcW1MySfm7l"
      }
    },
    {
      "cell_type": "markdown",
      "source": [
        "https://www.kaggle.com/models/google/movenet/frameworks/tensorFlow2/variations/singlepose-thunder"
      ],
      "metadata": {
        "id": "L75b6RvQfYqa"
      }
    },
    {
      "cell_type": "code",
      "execution_count": null,
      "metadata": {
        "id": "Kdlx8FnOlN74"
      },
      "outputs": [],
      "source": [
        "!mkdir SavedModel\n",
        "!tar -xf \"/content/TFSinglePoseThunder.tar.gz\" --directory SavedModel\n",
        "#!rm TFSinglePosteLightning.tar.gz"
      ]
    },
    {
      "cell_type": "code",
      "source": [
        "import tensorflow as tf\n",
        "\n",
        "model_path = \"SavedModel\"\n",
        "model = tf.saved_model.load(model_path)"
      ],
      "metadata": {
        "id": "jdbf2n7imcQQ"
      },
      "execution_count": null,
      "outputs": []
    },
    {
      "cell_type": "code",
      "source": [
        "from PIL import Image\n",
        "import numpy as np\n",
        "from io import BytesIO\n",
        "\n",
        "img_data = tf.io.gfile.GFile('/content/Yoga.jpg', 'rb').read()\n",
        "image = Image.open(BytesIO(img_data))\n",
        "image = image.resize((256,256))\n",
        "image_np  = np.array(image.getdata()).reshape((256, 256, 3)).astype(np.int32)\n",
        "input_tensor = tf.convert_to_tensor(np.expand_dims(image_np, 0))"
      ],
      "metadata": {
        "id": "2y6RCIuqmhpL"
      },
      "execution_count": null,
      "outputs": []
    },
    {
      "cell_type": "code",
      "source": [
        "input_tensor.shape"
      ],
      "metadata": {
        "id": "PLHEY7bLnd7J"
      },
      "execution_count": null,
      "outputs": []
    },
    {
      "cell_type": "code",
      "source": [
        "image"
      ],
      "metadata": {
        "id": "57vP5XJ4m0O2"
      },
      "execution_count": null,
      "outputs": []
    },
    {
      "cell_type": "code",
      "source": [
        "movenet = model.signatures['serving_default']"
      ],
      "metadata": {
        "id": "URMun23-nWsX"
      },
      "execution_count": null,
      "outputs": []
    },
    {
      "cell_type": "code",
      "source": [
        "movenet(input_tensor)"
      ],
      "metadata": {
        "id": "WfdpshVinRXa"
      },
      "execution_count": null,
      "outputs": []
    }
  ]
}