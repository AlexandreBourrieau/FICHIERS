{
  "cells": [
    {
      "cell_type": "code",
      "source": [
        "!pip -q install git+https://github.com/onnx/tensorflow-onnx"
      ],
      "metadata": {
        "id": "aCp_L2NbinoM"
      },
      "execution_count": null,
      "outputs": []
    },
    {
      "cell_type": "code",
      "source": [
        "!mkdir \"SaveModel\""
      ],
      "metadata": {
        "id": "CwQfS8cXirPB"
      },
      "execution_count": 2,
      "outputs": []
    },
    {
      "cell_type": "code",
      "execution_count": 6,
      "metadata": {
        "id": "Kdlx8FnOlN74"
      },
      "outputs": [],
      "source": [
        "!tar -xf \"/content/TFSinglePoseThunder.tar.gz\" --directory SaveModel"
      ]
    },
    {
      "cell_type": "code",
      "execution_count": null,
      "metadata": {
        "id": "bRXVswUvidNS"
      },
      "outputs": [],
      "source": [
        "!python3 -m tf2onnx.convert --opset 17 --saved-model \"SaveModel\" --output \"/content/model_A100.onnx\""
      ]
    }
  ],
  "metadata": {
    "accelerator": "GPU",
    "colab": {
      "gpuType": "A100",
      "machine_shape": "hm",
      "provenance": []
    },
    "kernelspec": {
      "display_name": "Python 3",
      "language": "python",
      "name": "python3"
    },
    "language_info": {
      "codemirror_mode": {
        "name": "ipython",
        "version": 3
      },
      "file_extension": ".py",
      "mimetype": "text/x-python",
      "name": "python",
      "nbconvert_exporter": "python",
      "pygments_lexer": "ipython3",
      "version": "3.6.9"
    }
  },
  "nbformat": 4,
  "nbformat_minor": 0
}