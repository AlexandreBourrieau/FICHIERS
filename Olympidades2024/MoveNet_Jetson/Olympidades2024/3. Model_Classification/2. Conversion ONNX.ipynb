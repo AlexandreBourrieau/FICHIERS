{
 "cells": [
  {
   "cell_type": "markdown",
   "id": "e08c76f6-1717-44c8-8023-ac7ea0adae0e",
   "metadata": {},
   "source": [
    "# Conversion du modèle sauvegardé au format ONNX"
   ]
  },
  {
   "cell_type": "code",
   "execution_count": 1,
   "id": "d1d69587-1569-46a8-ae03-40098072676e",
   "metadata": {},
   "outputs": [
    {
     "name": "stdout",
     "output_type": "stream",
     "text": [
      "/usr/lib/python3.6/runpy.py:125: RuntimeWarning: 'tf2onnx.convert' found in sys.modules after import of package 'tf2onnx', but prior to execution of 'tf2onnx.convert'; this may result in unpredictable behaviour\n",
      "  warn(RuntimeWarning(msg))\n",
      "2024-03-26 12:16:29,589 - WARNING - ***IMPORTANT*** Installed protobuf is not cpp accelerated. Conversion will be extremely slow. See https://github.com/onnx/tensorflow-onnx/issues/1557\n",
      "2024-03-26 12:16:35,964 - WARNING - '--tag' not specified for saved_model. Using --tag serve\n",
      "2024-03-26 12:16:43,244 - INFO - Signatures found in model: [serving_default].\n",
      "2024-03-26 12:16:43,245 - WARNING - '--signature_def' not specified, using first signature: serving_default\n",
      "2024-03-26 12:16:43,246 - INFO - Output names: ['dense_2']\n",
      "WARNING:tensorflow:From /usr/local/lib/python3.6/dist-packages/tf2onnx-1.12.0-py3.6.egg/tf2onnx/tf_loader.py:715: extract_sub_graph (from tensorflow.python.framework.graph_util_impl) is deprecated and will be removed in a future version.\n",
      "Instructions for updating:\n",
      "Use `tf.compat.v1.graph_util.extract_sub_graph`\n",
      "2024-03-26 12:16:45,426 - WARNING - From /usr/local/lib/python3.6/dist-packages/tf2onnx-1.12.0-py3.6.egg/tf2onnx/tf_loader.py:715: extract_sub_graph (from tensorflow.python.framework.graph_util_impl) is deprecated and will be removed in a future version.\n",
      "Instructions for updating:\n",
      "Use `tf.compat.v1.graph_util.extract_sub_graph`\n",
      "2024-03-26 12:16:46,331 - INFO - Using tensorflow=2.7.0, onnx=1.11.0, tf2onnx=1.12.0/f4902a\n",
      "2024-03-26 12:16:46,332 - INFO - Using opset <onnx, 13>\n",
      "2024-03-26 12:16:47,798 - INFO - Computed 0 values for constant folding\n",
      "2024-03-26 12:16:49,235 - INFO - Optimizing ONNX model\n",
      "2024-03-26 12:16:50,538 - INFO - After optimization: Add -1 (7->6), Cast -5 (9->4), Const -39 (64->25), Gather -2 (9->7), Identity -2 (2->0), Mul -2 (11->9), Reshape -2 (3->1), Unsqueeze -4 (8->4)\n",
      "2024-03-26 12:16:50,586 - INFO - \n",
      "2024-03-26 12:16:50,586 - INFO - Successfully converted TensorFlow model SaveModel to ONNX\n",
      "2024-03-26 12:16:50,586 - INFO - Model inputs: ['input_1']\n",
      "2024-03-26 12:16:50,586 - INFO - Model outputs: ['dense_2']\n",
      "2024-03-26 12:16:50,587 - INFO - ONNX model is saved at modele_classification.onnx\n"
     ]
    }
   ],
   "source": [
    "!python3 -m tf2onnx.convert --saved-model \"SaveModel\" --output \"modele_classification.onnx\""
   ]
  },
  {
   "cell_type": "code",
   "execution_count": null,
   "id": "74367432-a6f4-4bd6-9a2d-29d2576c67bb",
   "metadata": {},
   "outputs": [],
   "source": []
  }
 ],
 "metadata": {
  "kernelspec": {
   "display_name": "Python 3",
   "language": "python",
   "name": "python3"
  },
  "language_info": {
   "codemirror_mode": {
    "name": "ipython",
    "version": 3
   },
   "file_extension": ".py",
   "mimetype": "text/x-python",
   "name": "python",
   "nbconvert_exporter": "python",
   "pygments_lexer": "ipython3",
   "version": "3.6.9"
  }
 },
 "nbformat": 4,
 "nbformat_minor": 5
}
