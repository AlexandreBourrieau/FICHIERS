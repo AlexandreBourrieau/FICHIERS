{
 "cells": [
  {
   "cell_type": "markdown",
   "id": "570099c5-37c7-4734-a972-0373c850f84c",
   "metadata": {},
   "source": [
    "# Adding Sound on the NVIDIA Nano with a Sound USB Dongle"
   ]
  },
  {
   "cell_type": "markdown",
   "id": "bf7df1ae-023f-4e5b-928e-10b948872897",
   "metadata": {},
   "source": [
    "<center><img src=\"https://github.com/AlexandreBourrieau/FICHIERS/blob/main/Olympidades2024/USB_sound_jetson.jpg?raw=true\" width=700></center>"
   ]
  },
  {
   "cell_type": "markdown",
   "id": "7554e6fb-0398-4e00-8d4e-0b3ebb5a6860",
   "metadata": {},
   "source": [
    "Etapes à suivre :  \n",
    "1. Vérifiez que le périphérique est présent avec lssub.\n",
    "2. Utilisez la commande pmac list-cards pour rechercher le nom du pilote.\n",
    "3. Utilisez ensuite Sound & Video ->PulseAudio Volume Control pour définir la sortie correcte pour le son.\n",
    "4. Branchez votre haut-parleur sur la prise verte."
   ]
  },
  {
   "cell_type": "markdown",
   "id": "7d25d959-b8b0-4549-89f3-6309c811f84e",
   "metadata": {},
   "source": [
    "Après avoir branché le stick USB, vous pouvez exécuter la commande lsusb :"
   ]
  },
  {
   "cell_type": "code",
   "execution_count": null,
   "id": "348d2d93-66b7-463b-a831-a2e43ee909c8",
   "metadata": {},
   "outputs": [],
   "source": [
    "$ lsusb  \n",
    "Bus 002 Device 001: ID 1d6b:0003 Linux Foundation 3.0 root hub  \n",
    "Bus 001 Device 007: ID 0d8c:0014 C-Media Electronics, Inc.   \n",
    "Bus 001 Device 003: ID 04f2:0939 Chicony Electronics Co., Ltd   \n",
    "Bus 001 Device 002: ID 1a40:0801 Terminus Technology Inc.   \n",
    "Bus 001 Device 005: ID 04f2:0833 Chicony Electronics Co., Ltd   \n",
    "Bus 001 Device 001: ID 1d6b:0002 Linux Foundation 2.0 root hub  "
   ]
  },
  {
   "cell_type": "markdown",
   "id": "a5dfe219-063e-4294-b0f5-78cefa0a090c",
   "metadata": {},
   "source": [
    "Le système d'exploitation Ubuntu dispose d'un registre de périphériques portant ce numéro d'identification USB **ID 0d8c:0014**. S'il détecte un périphérique portant ce numéro, il tentera de trouver un pilote de périphérique correspondant à ce périphérique USB."
   ]
  },
  {
   "cell_type": "markdown",
   "id": "951303ee-d47e-426e-868a-dca5a6b88afa",
   "metadata": {},
   "source": [
    "Voici la fonction pmac list-cards. Notez que vous verrez une ligne :"
   ]
  },
  {
   "cell_type": "code",
   "execution_count": null,
   "id": "725df110-8d64-41c8-8571-38e0760093f3",
   "metadata": {},
   "outputs": [],
   "source": [
    "device.product.name = \"Audio Adapter (Unitek Y-247A)\""
   ]
  },
  {
   "cell_type": "markdown",
   "id": "c39b2edc-c94f-407b-8663-e42135e760c7",
   "metadata": {},
   "source": [
    "Voici l'ensemble de la réponse de la commande :"
   ]
  },
  {
   "cell_type": "code",
   "execution_count": null,
   "id": "aa1437c7-5fa8-40d4-87b6-434c3900b247",
   "metadata": {},
   "outputs": [],
   "source": [
    "$ pmac list-cards\n",
    "index: 1\n",
    " name: <alsa_card.usb-C-Media_Electronics_Inc._USB_Audio_Device-00>\n",
    " driver: <module-alsa-card.c>\n",
    " owner module: 8\n",
    " properties:\n",
    "  alsa.card = \"2\"\n",
    "  alsa.card_name = \"USB Audio Device\"\n",
    "  alsa.long_card_name = \"C-Media Electronics Inc. USB Audio Device at usb-70090000.xusb-3.2, full speed\"\n",
    "  alsa.driver_name = \"snd_usb_audio\"\n",
    "  device.bus_path = \"platform-70090000.xusb-usb-0:3.2:1.0\"\n",
    "  sysfs.path = \"/devices/70090000.xusb/usb1/1-3/1-3.2/1-3.2:1.0/sound/card2\"\n",
    "  udev.id = \"usb-C-Media_Electronics_Inc._USB_Audio_Device-00\"\n",
    "  device.bus = \"usb\"\n",
    "  device.vendor.id = \"0d8c\"\n",
    "  device.vendor.name = \"C-Media Electronics, Inc.\"\n",
    "  device.product.id = \"0014\"\n",
    "  device.product.name = \"Audio Adapter (Unitek Y-247A)\"\n",
    "  device.serial = \"C-Media_Electronics_Inc._USB_Audio_Device\"\n",
    "  device.string = \"2\"\n",
    "  device.description = \"Audio Adapter (Unitek Y-247A)\"\n",
    "  module-udev-detect.discovered = \"1\"\n",
    "  device.icon_name = \"audio-card-usb\"\n",
    " profiles:\n",
    "  input:analog-mono: Analog Mono Input (priority 2, available: unknown)\n",
    "  output:analog-stereo: Analog Stereo Output (priority 6000, available: unknown)\n",
    "  output:analog-stereo+input:analog-mono: Analog Stereo Output + Analog Mono Input (priority 6002, available: unknown)\n",
    "  output:iec958-stereo: Digital Stereo (IEC958) Output (priority 5500, available: unknown)\n",
    "  output:iec958-stereo+input:analog-mono: Digital Stereo (IEC958) Output + Analog Mono Input (priority 5502, available: unknown)\n",
    "  off: Off (priority 0, available: unknown)\n",
    " active profile: <output:analog-stereo+input:analog-mono>\n",
    " sinks:\n",
    "  alsa_output.usb-C-Media_Electronics_Inc._USB_Audio_Device-00.analog-stereo/#1: Audio Adapter (Unitek Y-247A) Analog Stereo\n",
    " sources:\n",
    "  alsa_output.usb-C-Media_Electronics_Inc._USB_Audio_Device-00.analog-stereo.monitor/#1: Monitor of Audio Adapter (Unitek Y-247A) Analog Stereo\n",
    "  alsa_input.usb-C-Media_Electronics_Inc._USB_Audio_Device-00.analog-mono/#2: Audio Adapter (Unitek Y-247A) Analog Mono\n",
    " ports:\n",
    "  analog-input-mic: Microphone (priority 8700, latency offset 0 usec, available: unknown)\n",
    "   properties:\n",
    "    device.icon_name = \"audio-input-microphone\"\n",
    "  analog-output-speaker: Speakers (priority 10000, latency offset 0 usec, available: unknown)\n",
    "   properties:\n",
    "    device.icon_name = \"audio-speakers\"\n",
    "  iec958-stereo-output: Digital Output (S/PDIF) (priority 0, latency offset 0 usec, available: unknown)\n",
    "   properties:"
   ]
  },
  {
   "cell_type": "markdown",
   "id": "f658e2fa-eee5-4598-907e-543e8d50446e",
   "metadata": {},
   "source": [
    "<center><img src=\"https://github.com/AlexandreBourrieau/FICHIERS/blob/main/Olympidades2024/Menu1.jpg?raw=true\" width=400></center>"
   ]
  },
  {
   "cell_type": "markdown",
   "id": "b02d96e0-bf34-4d87-a577-e56897b755c9",
   "metadata": {},
   "source": [
    "<center><img src=\"https://github.com/AlexandreBourrieau/FICHIERS/blob/main/Olympidades2024/Menu2.jpg?raw=true\" width=400></center>"
   ]
  },
  {
   "cell_type": "markdown",
   "id": "223c8453-4556-40d3-9c09-ec41bf6407ce",
   "metadata": {},
   "source": [
    "<center><img src=\"https://github.com/AlexandreBourrieau/FICHIERS/blob/main/Olympidades2024/Menu3.jpg?raw=true\" width=400></center>"
   ]
  },
  {
   "cell_type": "markdown",
   "id": "f0fac5f0-e4b1-41ec-b424-6517a86cb248",
   "metadata": {},
   "source": [
    "### Autres commandes de débogage éventuellement utiles"
   ]
  },
  {
   "cell_type": "markdown",
   "id": "0baf378f-2365-4547-9a05-5a81d7b55b94",
   "metadata": {},
   "source": [
    "Voici la commande pour lister les cartes :"
   ]
  },
  {
   "cell_type": "code",
   "execution_count": null,
   "id": "88de41f2-821a-4848-a354-c3bd71432a80",
   "metadata": {},
   "outputs": [],
   "source": [
    "$ cat /proc/asound/cards \n",
    " 0 [tegrahda       ]: tegra-hda - tegra-hda\n",
    "                      tegra-hda at 0x70038000 irq 81\n",
    " 1 [tegrasndt210ref]: tegra-snd-t210r - tegra-snd-t210ref-mobile-rt565x\n",
    "                      tegra-snd-t210ref-mobile-rt565x\n",
    " 2 [Device         ]: USB-Audio - USB Audio Device\n",
    "                      C-Media Electronics Inc. USB Audio Device at usb-70090000.xusb-3.2, full speed"
   ]
  },
  {
   "cell_type": "markdown",
   "id": "3c0f4816-a3a2-47e5-a927-1a59b0aae000",
   "metadata": {},
   "source": [
    "Cela vous indique qu'il s'agit de la carte 2 et qu'il s'agit d'un périphérique USB-Audio à l'adresse usb-70090000.xusb-3.2."
   ]
  },
  {
   "cell_type": "markdown",
   "id": "d851240b-3a8f-4f37-8a68-ce873a33df4e",
   "metadata": {},
   "source": [
    "Voici la commande des périphériques USB :"
   ]
  },
  {
   "cell_type": "code",
   "execution_count": null,
   "id": "46fe0840-23a7-4fce-838a-94e34ff1d7e5",
   "metadata": {},
   "outputs": [],
   "source": [
    "$ usb-devices\n",
    "T:  Bus=01 Lev=02 Prnt=03 Port=01 Cnt=02 Dev#=  5 Spd=12  MxCh= 0\n",
    "D:  Ver= 1.10 Cls=00(>ifc ) Sub=00 Prot=00 MxPS= 8 #Cfgs=  1\n",
    "P:  Vendor=0d8c ProdID=0014 Rev=01.00\n",
    "S:  Manufacturer=C-Media Electronics Inc.\n",
    "S:  Product=USB Audio Device\n",
    "C:  #Ifs= 4 Cfg#= 1 Atr=80 MxPwr=100mA\n",
    "I:  If#= 0 Alt= 0 #EPs= 0 Cls=01(audio) Sub=01 Prot=00 Driver=snd-usb-audio\n",
    "I:  If#= 1 Alt= 1 #EPs= 1 Cls=01(audio) Sub=02 Prot=00 Driver=snd-usb-audio\n",
    "I:  If#= 2 Alt= 1 #EPs= 1 Cls=01(audio) Sub=02 Prot=00 Driver=snd-usb-audio\n",
    "I:  If#= 3 Alt= 0 #EPs= 1 Cls=03(HID  ) Sub=00 Prot=00 Driver=usbhid"
   ]
  },
  {
   "cell_type": "markdown",
   "id": "9f754f78-d5ff-4087-bef4-47870eb722cb",
   "metadata": {},
   "source": [
    "Cela vous montre que le périphérique USB est associé à Manufacturer=C-Media Electronics Inc. mais ne vous montre pas le nom du pilote."
   ]
  },
  {
   "cell_type": "markdown",
   "id": "4942e0c4-1d82-49e4-9992-1a5cc6f987ec",
   "metadata": {},
   "source": [
    "Voici comment vous pouvez regarder directement et traiter les fichiers de périphérique audio par UNIX."
   ]
  },
  {
   "cell_type": "code",
   "execution_count": null,
   "id": "c2506aa9-a3f7-494b-912a-33f2e63e01f1",
   "metadata": {},
   "outputs": [],
   "source": [
    "$ cd /proc/asound\n",
    "$ ls\n",
    "card2\n",
    "ls card*\n",
    "card0:\n",
    "codec#3  eld#3.0  id  pcm3p\n",
    "card1:\n",
    "id     pcm0p  pcm1p  pcm2p  pcm3p  pcm4p  pcm5p  pcm6p  pcm7p  pcm8p  pcm9p\n",
    "pcm0c  pcm1c  pcm2c  pcm3c  pcm4c  pcm5c  pcm6c  pcm7c  pcm8c  pcm9c\n",
    "card2:\n",
    "id  pcm0c  pcm0p  stream0  usbbus  usbid  usbmixer"
   ]
  },
  {
   "cell_type": "markdown",
   "id": "afc6876d-f496-4b73-8bdf-73b1853ef6b6",
   "metadata": {},
   "source": [
    "Vous pouvez également vérifier la commande aplay -l pour répertorier les périphériques matériels de lecture :"
   ]
  },
  {
   "cell_type": "code",
   "execution_count": null,
   "id": "ec450422-7959-4b5a-9767-f977e5064ca9",
   "metadata": {},
   "outputs": [],
   "source": [
    "$ aplay -l\n",
    "**** List of PLAYBACK Hardware Devices ****\n",
    "card 0: tegrahda [tegra-hda], device 3: HDMI 0 [HDMI 0]\n",
    "  Subdevices: 1/1\n",
    "  Subdevice #0: subdevice #0\n",
    "card 1: tegrasndt210ref [tegra-snd-t210ref-mobile-rt565x], device 0: ADMAIF1 CIF ADMAIF1-0 []\n",
    "  Subdevices: 1/1\n",
    "  Subdevice #0: subdevice #0\n",
    "card 1: tegrasndt210ref [tegra-snd-t210ref-mobile-rt565x], device 1: ADMAIF2 CIF ADMAIF2-1 []\n",
    "  Subdevices: 1/1\n",
    "  Subdevice #0: subdevice #0\n",
    "card 1: tegrasndt210ref [tegra-snd-t210ref-mobile-rt565x], device 2: ADMAIF3 CIF ADMAIF3-2 []\n",
    "  Subdevices: 1/1\n",
    "  Subdevice #0: subdevice #0\n",
    "card 1: tegrasndt210ref [tegra-snd-t210ref-mobile-rt565x], device 3: ADMAIF4 CIF ADMAIF4-3 []\n",
    "  Subdevices: 1/1\n",
    "  Subdevice #0: subdevice #0\n",
    "card 1: tegrasndt210ref [tegra-snd-t210ref-mobile-rt565x], device 4: ADMAIF5 CIF ADMAIF5-4 []\n",
    "  Subdevices: 1/1\n",
    "  Subdevice #0: subdevice #0\n",
    "card 1: tegrasndt210ref [tegra-snd-t210ref-mobile-rt565x], device 5: ADMAIF6 CIF ADMAIF6-5 []\n",
    "  Subdevices: 1/1\n",
    "  Subdevice #0: subdevice #0\n",
    "card 1: tegrasndt210ref [tegra-snd-t210ref-mobile-rt565x], device 6: ADMAIF7 CIF ADMAIF7-6 []\n",
    "  Subdevices: 1/1\n",
    "  Subdevice #0: subdevice #0\n",
    "card 1: tegrasndt210ref [tegra-snd-t210ref-mobile-rt565x], device 7: ADMAIF8 CIF ADMAIF8-7 []\n",
    "  Subdevices: 1/1\n",
    "  Subdevice #0: subdevice #0\n",
    "card 1: tegrasndt210ref [tegra-snd-t210ref-mobile-rt565x], device 8: ADMAIF9 CIF ADMAIF9-8 []\n",
    "  Subdevices: 1/1\n",
    "  Subdevice #0: subdevice #0\n",
    "card 1: tegrasndt210ref [tegra-snd-t210ref-mobile-rt565x], device 9: ADMAIF10 CIF ADMAIF10-9 []\n",
    "  Subdevices: 1/1\n",
    "  Subdevice #0: subdevice #0\n",
    "card 2: Device [USB Audio Device], device 0: USB Audio [USB Audio]\n",
    "  Subdevices: 1/1\n",
    "  Subdevice #0: subdevice #0"
   ]
  }
 ],
 "metadata": {
  "kernelspec": {
   "display_name": "Python 3",
   "language": "python",
   "name": "python3"
  },
  "language_info": {
   "codemirror_mode": {
    "name": "ipython",
    "version": 3
   },
   "file_extension": ".py",
   "mimetype": "text/x-python",
   "name": "python",
   "nbconvert_exporter": "python",
   "pygments_lexer": "ipython3",
   "version": "3.6.9"
  }
 },
 "nbformat": 4,
 "nbformat_minor": 5
}
