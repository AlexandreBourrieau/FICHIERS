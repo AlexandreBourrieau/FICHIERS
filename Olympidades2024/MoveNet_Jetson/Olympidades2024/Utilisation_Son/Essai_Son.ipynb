{
 "cells": [
  {
   "cell_type": "code",
   "execution_count": null,
   "id": "fe68e5c8-9b32-49e5-8de3-efcc32b6064a",
   "metadata": {},
   "outputs": [
    {
     "name": "stdout",
     "output_type": "stream",
     "text": [
      "playing sound using  playsound\n"
     ]
    }
   ],
   "source": [
    "from playsound import playsound\n",
    "\n",
    "playsound(\"/home/jetson/notebook/Olympiades2024/Utilisation_Son/yeah.mp3\")\n",
    "print('playing sound using  playsound')"
   ]
  }
 ],
 "metadata": {
  "kernelspec": {
   "display_name": "Python 3",
   "language": "python",
   "name": "python3"
  },
  "language_info": {
   "codemirror_mode": {
    "name": "ipython",
    "version": 3
   },
   "file_extension": ".py",
   "mimetype": "text/x-python",
   "name": "python",
   "nbconvert_exporter": "python",
   "pygments_lexer": "ipython3",
   "version": "3.6.9"
  }
 },
 "nbformat": 4,
 "nbformat_minor": 5
}
