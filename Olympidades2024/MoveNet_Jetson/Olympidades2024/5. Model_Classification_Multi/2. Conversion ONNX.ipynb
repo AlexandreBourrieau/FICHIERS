{
 "cells": [
  {
   "cell_type": "markdown",
   "id": "e08c76f6-1717-44c8-8023-ac7ea0adae0e",
   "metadata": {},
   "source": [
    "# Conversion du modèle sauvegardé au format ONNX"
   ]
  },
  {
   "cell_type": "code",
   "execution_count": 1,
   "id": "d1d69587-1569-46a8-ae03-40098072676e",
   "metadata": {},
   "outputs": [
    {
     "name": "stdout",
     "output_type": "stream",
     "text": [
      "/usr/lib/python3.6/runpy.py:125: RuntimeWarning: 'tf2onnx.convert' found in sys.modules after import of package 'tf2onnx', but prior to execution of 'tf2onnx.convert'; this may result in unpredictable behaviour\n",
      "  warn(RuntimeWarning(msg))\n",
      "2024-05-19 18:21:16,711 - WARNING - ***IMPORTANT*** Installed protobuf is not cpp accelerated. Conversion will be extremely slow. See https://github.com/onnx/tensorflow-onnx/issues/1557\n",
      "2024-05-19 18:21:22,966 - WARNING - '--tag' not specified for saved_model. Using --tag serve\n",
      "2024-05-19 18:21:42,537 - INFO - Signatures found in model: [serving_default].\n",
      "2024-05-19 18:21:42,538 - WARNING - '--signature_def' not specified, using first signature: serving_default\n",
      "2024-05-19 18:21:42,539 - INFO - Output names: ['concatenate']\n",
      "WARNING:tensorflow:From /usr/local/lib/python3.6/dist-packages/tf2onnx-1.12.0-py3.6.egg/tf2onnx/tf_loader.py:715: extract_sub_graph (from tensorflow.python.framework.graph_util_impl) is deprecated and will be removed in a future version.\n",
      "Instructions for updating:\n",
      "Use `tf.compat.v1.graph_util.extract_sub_graph`\n",
      "2024-05-19 18:21:46,218 - WARNING - From /usr/local/lib/python3.6/dist-packages/tf2onnx-1.12.0-py3.6.egg/tf2onnx/tf_loader.py:715: extract_sub_graph (from tensorflow.python.framework.graph_util_impl) is deprecated and will be removed in a future version.\n",
      "Instructions for updating:\n",
      "Use `tf.compat.v1.graph_util.extract_sub_graph`\n",
      "2024-05-19 18:21:48,403 - INFO - Using tensorflow=2.7.0, onnx=1.11.0, tf2onnx=1.12.0/f4902a\n",
      "2024-05-19 18:21:48,404 - INFO - Using opset <onnx, 13>\n",
      "2024-05-19 18:21:52,469 - INFO - Computed 0 values for constant folding\n",
      "2024-05-19 18:21:56,276 - INFO - Optimizing ONNX model\n",
      "2024-05-19 18:22:00,617 - INFO - After optimization: Add -1 (17->16), Cast -13 (17->4), Const -108 (173->65), Gather -2 (9->7), Identity -2 (2->0), Mul -2 (11->9), Reshape -7 (11->4), Unsqueeze -4 (13->9)\n",
      "2024-05-19 18:22:00,708 - INFO - \n",
      "2024-05-19 18:22:00,708 - INFO - Successfully converted TensorFlow model SaveModel_Multi_Assises to ONNX\n",
      "2024-05-19 18:22:00,709 - INFO - Model inputs: ['input_1']\n",
      "2024-05-19 18:22:00,709 - INFO - Model outputs: ['concatenate']\n",
      "2024-05-19 18:22:00,709 - INFO - ONNX model is saved at modele_classification_multi_assises.onnx\n"
     ]
    }
   ],
   "source": [
    "!python3 -m tf2onnx.convert --saved-model \"SaveModel_Multi_Assises\" --output \"modele_classification_multi_assises.onnx\""
   ]
  },
  {
   "cell_type": "code",
   "execution_count": null,
   "id": "74367432-a6f4-4bd6-9a2d-29d2576c67bb",
   "metadata": {},
   "outputs": [],
   "source": []
  }
 ],
 "metadata": {
  "kernelspec": {
   "display_name": "Python 3",
   "language": "python",
   "name": "python3"
  },
  "language_info": {
   "codemirror_mode": {
    "name": "ipython",
    "version": 3
   },
   "file_extension": ".py",
   "mimetype": "text/x-python",
   "name": "python",
   "nbconvert_exporter": "python",
   "pygments_lexer": "ipython3",
   "version": "3.6.9"
  }
 },
 "nbformat": 4,
 "nbformat_minor": 5
}
