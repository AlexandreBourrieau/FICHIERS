{
 "cells": [
  {
   "cell_type": "markdown",
   "id": "12c23054-d92d-438a-bbbf-6b557e01c371",
   "metadata": {},
   "source": [
    "# Extraction de la valeur moyenne du signal PWM pour piloter le module pont en H"
   ]
  },
  {
   "cell_type": "markdown",
   "id": "b6a4ae3b-4b05-4ce7-afc1-2ab3362c4fcd",
   "metadata": {},
   "source": [
    "Le signal PWM ne permet pas de commander le module pont en H Sabertooth, il faut en extraire la valeur moyenne avec un filtre RC :"
   ]
  },
  {
   "cell_type": "markdown",
   "id": "5e37a0f9-a3a5-4652-bd0d-80bb8e6f5699",
   "metadata": {},
   "source": [
    "<center><img src=\"https://github.com/AlexandreBourrieau/FICHIERS/blob/main/Olympidades2024/FRC2.jpg?raw=true\" width=900></center>"
   ]
  },
  {
   "cell_type": "markdown",
   "id": "c0dc7c67-158a-4e85-9ff6-a919ee9b6841",
   "metadata": {},
   "source": [
    "La fréquence du signal PWM étant de 1 kHz, on peut utiliser un filtre RC avec une fréquence de coupure de 10 Hz : "
   ]
  },
  {
   "cell_type": "markdown",
   "id": "c2eb578e-4f3d-4edf-a99d-ffd5688cfec2",
   "metadata": {},
   "source": [
    "Sachant que la fréquence de coupure est f = 1/(2*pi*RC), si C = 10uF, on peut prendre 1,5 k-ohm"
   ]
  },
  {
   "cell_type": "markdown",
   "id": "7a973aa8-e58d-4f02-b867-35048298339a",
   "metadata": {},
   "source": [
    "<center><img src=\"https://github.com/AlexandreBourrieau/FICHIERS/blob/main/Olympidades2024/filtrage2.jpg?raw=true\" width=900></center>"
   ]
  }
 ],
 "metadata": {
  "kernelspec": {
   "display_name": "Python 3",
   "language": "python",
   "name": "python3"
  },
  "language_info": {
   "codemirror_mode": {
    "name": "ipython",
    "version": 3
   },
   "file_extension": ".py",
   "mimetype": "text/x-python",
   "name": "python",
   "nbconvert_exporter": "python",
   "pygments_lexer": "ipython3",
   "version": "3.6.9"
  }
 },
 "nbformat": 4,
 "nbformat_minor": 5
}
