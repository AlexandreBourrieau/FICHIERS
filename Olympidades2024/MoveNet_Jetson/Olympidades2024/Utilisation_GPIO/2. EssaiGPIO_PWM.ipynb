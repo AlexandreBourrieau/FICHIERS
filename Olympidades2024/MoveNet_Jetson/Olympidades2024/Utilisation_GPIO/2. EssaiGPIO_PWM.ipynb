{
 "cells": [
  {
   "cell_type": "markdown",
   "id": "80a40c24-4506-4383-9e57-c3b6c0b22573",
   "metadata": {},
   "source": [
    "# Utilisation du GPIO pour créer un PWM"
   ]
  },
  {
   "cell_type": "markdown",
   "id": "802f58ff-df44-476d-a1b8-ed0234dd2d05",
   "metadata": {},
   "source": [
    "Remarque : il faut activer le PWM de la broche 33 et enregistrer la configuration (pas besoin de le refaire à chaque fois) :  \n",
    "=> sudo pyhton /opt/nvidia/jetson-io/jetson-io.py"
   ]
  },
  {
   "cell_type": "markdown",
   "id": "14e14b05-aded-4482-982b-fac298fc11a1",
   "metadata": {},
   "source": [
    "<center><img src=\"https://github.com/AlexandreBourrieau/FICHIERS/blob/main/Olympidades2024/GPIO_PWM_JETSON.jpg?raw=true\" width=700></center>"
   ]
  },
  {
   "cell_type": "code",
   "execution_count": null,
   "id": "c74b9f6f-0f7a-41b4-856a-cdd701d3baa1",
   "metadata": {},
   "outputs": [],
   "source": [
    "import Jetson.GPIO as GPIO\n",
    "import time\n",
    "\n",
    "output_pin=33\n",
    "GPIO.setmode(GPIO.BOARD)\n",
    "GPIO.setup(output_pin,GPIO.OUT,initial=GPIO.HIGH)\n",
    "pwm = GPIO.PWM(output_pin,100)\n",
    "pwm.start(0)\n",
    "\n",
    "try:\n",
    "    while 1:\n",
    "        for val in range(100):\n",
    "            time.sleep(0.1)\n",
    "            pwm.ChangeDutyCycle(val)\n",
    "\n",
    "except KeyboardInterrupt:\n",
    "    pwm.stop()\n",
    "    GPIO.cleanup()"
   ]
  }
 ],
 "metadata": {
  "kernelspec": {
   "display_name": "Python 3",
   "language": "python",
   "name": "python3"
  },
  "language_info": {
   "codemirror_mode": {
    "name": "ipython",
    "version": 3
   },
   "file_extension": ".py",
   "mimetype": "text/x-python",
   "name": "python",
   "nbconvert_exporter": "python",
   "pygments_lexer": "ipython3",
   "version": "3.6.9"
  }
 },
 "nbformat": 4,
 "nbformat_minor": 5
}
