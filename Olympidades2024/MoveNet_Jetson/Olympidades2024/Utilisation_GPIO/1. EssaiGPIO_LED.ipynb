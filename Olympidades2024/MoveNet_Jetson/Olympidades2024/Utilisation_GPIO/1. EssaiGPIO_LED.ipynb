{
 "cells": [
  {
   "cell_type": "markdown",
   "id": "e7c3efac-b5ea-4d72-b1b0-69b7f6072703",
   "metadata": {},
   "source": [
    "# Utilisation des GPIO pour faire clignoter une LED"
   ]
  },
  {
   "cell_type": "markdown",
   "id": "97d51fb4-5bf0-41ec-95a0-286b9752162d",
   "metadata": {},
   "source": [
    "<center><img src=\"https://github.com/AlexandreBourrieau/FICHIERS/blob/main/Olympidades2024/GPIO_LED_JETSON.jpg?raw=true\" width=700></center>"
   ]
  },
  {
   "cell_type": "code",
   "execution_count": null,
   "id": "9313b532-d6f6-43be-8f82-2cc239a4124a",
   "metadata": {},
   "outputs": [],
   "source": [
    "import Jetson.GPIO as GPIO\n",
    "import time\n",
    "\n",
    "led_pin=33\n",
    "GPIO.setmode(GPIO.BOARD)\n",
    "GPIO.setup(led_pin,GPIO.OUT)\n",
    "\n",
    "\n",
    "try:\n",
    "    while 1:\n",
    "        print(\"allumage de la led\")\n",
    "        GPIO.output(led_pin,GPIO.HIGH)\n",
    "        time.sleep(2)\n",
    "        print(\"extinction de la LED\")\n",
    "        GPIO.output(led_pin,GPIO.LOW)\n",
    "        time.sleep(2)\n",
    "    \n",
    "except KeyboardInterrupt:\n",
    "    GPIO.out(led_pin,GPIO.LOW)\n",
    "    GPIO.cleanup()\n",
    "    \n",
    "    print(\"Terminé !\")\n",
    "    "
   ]
  }
 ],
 "metadata": {
  "kernelspec": {
   "display_name": "Python 3",
   "language": "python",
   "name": "python3"
  },
  "language_info": {
   "codemirror_mode": {
    "name": "ipython",
    "version": 3
   },
   "file_extension": ".py",
   "mimetype": "text/x-python",
   "name": "python",
   "nbconvert_exporter": "python",
   "pygments_lexer": "ipython3",
   "version": "3.6.9"
  }
 },
 "nbformat": 4,
 "nbformat_minor": 5
}
