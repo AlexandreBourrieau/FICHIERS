{
 "cells": [
  {
   "cell_type": "markdown",
   "id": "80a40c24-4506-4383-9e57-c3b6c0b22573",
   "metadata": {},
   "source": [
    "# Activation du PWM sur la broche 32 du port d'extension GPIO sur le jetson nano"
   ]
  },
  {
   "cell_type": "markdown",
   "id": "0822bc63-4aad-4943-bf26-e04401ecad61",
   "metadata": {
    "tags": []
   },
   "source": [
    "### Solution simple (mais qui ne fonctionne pas...) :"
   ]
  },
  {
   "cell_type": "markdown",
   "id": "802f58ff-df44-476d-a1b8-ed0234dd2d05",
   "metadata": {},
   "source": [
    "Remarque : il faut activer le PWM de la broche 32 et enregistrer la configuration (pas besoin de le refaire à chaque fois) :  \n",
    "=> sudo python /opt/nvidia/jetson-io/jetson-io.py"
   ]
  },
  {
   "cell_type": "markdown",
   "id": "4b75efbb-0d57-4364-b0eb-a880b464f064",
   "metadata": {},
   "source": [
    "*Remarque : **Cette méthode semble ne pas fonctionner**...  \n",
    "\n",
    "Voici donc une autre méthode avec écriture dans les registres internes du Jetson Nano"
   ]
  },
  {
   "cell_type": "markdown",
   "id": "996a3aa9-3b32-439e-b123-1b47b6f7cf14",
   "metadata": {
    "tags": []
   },
   "source": [
    "### Solution en configurant les registres interne du SoC"
   ]
  },
  {
   "cell_type": "markdown",
   "id": "e0e5e7ca-3c9b-4af8-854c-440a8a730042",
   "metadata": {},
   "source": [
    "#### Broches du GPIO et fonctions associées"
   ]
  },
  {
   "cell_type": "markdown",
   "id": "a1a46bc8-df07-4a4d-a5ac-6c14c8cec861",
   "metadata": {},
   "source": [
    "Les broches pouvant fonctioner en PWM sur le jetson nano sont :  \n",
    "    - Broche 32 (BCM n°12) : PWM0  \n",
    "    - Broche 33 (BCM n°13) : PWM2  "
   ]
  },
  {
   "cell_type": "markdown",
   "id": "b3f593cd-5875-46cb-a0f4-83bb101d28ad",
   "metadata": {},
   "source": [
    "Par exemple, la pin32 est BCM=12 alors que pin12 est BCM=18.\n"
   ]
  },
  {
   "cell_type": "markdown",
   "id": "84efda09-9e00-4501-860c-442ded112265",
   "metadata": {},
   "source": [
    "<center><img src=\"https://github.com/AlexandreBourrieau/FICHIERS/blob/main/Olympidades2024/JetsonNanoBoard.jpg?raw=true\" width=700></center>"
   ]
  },
  {
   "cell_type": "markdown",
   "id": "3f638543-fdf3-4479-acc4-8d43446a044f",
   "metadata": {},
   "source": [
    "#### Activer le PWM0 sur la broche 32 du Jetson Nano par écriture directe dans le registre interne"
   ]
  },
  {
   "cell_type": "markdown",
   "id": "bf85cede-b22e-4e5c-a42c-4aa4888aaa14",
   "metadata": {},
   "source": [
    "Pinmux spreadsheet : https://developer.nvidia.com/jetson-nano-pinmux  \n",
    "Technical reference manual: https://developer.nvidia.com/embedded/dlc/tegra-x1-technical-reference-manual  \n",
    "Jetson Nano Module Datasheet : https://developer.nvidia.com/embedded/dlc/jetson-nano-datasheet  \n",
    "Jetson Nano System-on-Module Data Sheet : https://developer.nvidia.com/embedded/dlc/jetson-nano-system-module-datasheet"
   ]
  },
  {
   "cell_type": "markdown",
   "id": "0f9e13d2-3ae7-44b6-bfb5-9f34d18def60",
   "metadata": {},
   "source": [
    "Dans le spreadsheet, on voit que le PWM0 de la broche 32 a pour fonction auxilaire LCD_BL_PWM, ce qui correspond au registe  **PINMUX_AUX_LCD_BL_PWM_0**"
   ]
  },
  {
   "cell_type": "markdown",
   "id": "93d65c29-5d3b-45f9-8d5e-1a3e174bbc1a",
   "metadata": {},
   "source": [
    "<center><img src=\"https://github.com/AlexandreBourrieau/FICHIERS/blob/main/Olympidades2024/Spreadsheet.jpg?raw=true\" width=1024></center>"
   ]
  },
  {
   "cell_type": "markdown",
   "id": "5f6cdc6b-cf46-49d3-a051-c5c8d8e30464",
   "metadata": {},
   "source": [
    "L'adresse de base du registre PINMUX_X est 0x70000000:"
   ]
  },
  {
   "cell_type": "markdown",
   "id": "a3f2cdfa-4c3c-4eaa-a50a-2bb9f8d1d4da",
   "metadata": {},
   "source": [
    "<center><img src=\"https://github.com/AlexandreBourrieau/FICHIERS/blob/main/Olympidades2024/AddrMapPinmux.jpg?raw=true\" width=600></center>"
   ]
  },
  {
   "cell_type": "markdown",
   "id": "7d6b04aa-66e9-4d54-a060-3f8a4a9c9a69",
   "metadata": {},
   "source": [
    "Le registre **PINMUX_AUX_LCD_BL_PWM_0** se trouve à l'offset 0x31fc (adresse de base 0x70000000). On va le configurer de la manière suivante:\n",
    " - PM = 1 (Activation de la fonction PWM0) => Bit 1:0 = 01\n",
    " - PUPD = 2 (Activation de la PULL_UP) => Bit3:2 = 10\n",
    " - TRISTATE = 0\n",
    " - PARK = 0\n",
    " - E_INPUT = 0 (Désactive le mode input receiver)\n",
    " - Tout le reste par défaut\n",
    "\n",
    "=> La valeur a écrire est donc : %0000000001001 = 0x05"
   ]
  },
  {
   "cell_type": "markdown",
   "id": "f01f7749-12c7-4cb4-8e64-3093f189348e",
   "metadata": {},
   "source": [
    "<center><img src=\"https://github.com/AlexandreBourrieau/FICHIERS/blob/main/Olympidades2024/RegistrePWM0.jpg?raw=true\" width=500></center>"
   ]
  },
  {
   "cell_type": "markdown",
   "id": "54aa5404-66e5-4df6-b3e5-f11afe87e91b",
   "metadata": {},
   "source": [
    "Ensuite, comme par défaut la broche 32 est configurée en mode GPIO, il faut la configurer en mode SFIO (Special Function I/O) pour utiliser la foncion spéciale PWM de cette broche."
   ]
  },
  {
   "cell_type": "markdown",
   "id": "c084ab28-8361-4593-b5c5-f1c9949d3057",
   "metadata": {},
   "source": [
    "La broche 32 du port GPIO (dénommée GPIO07), est la broche n°0 du port V (22) : (il y a en tout 32 ports : A,B,...,Z, AA, BB, CC, DD, EE, FF et chaque port possède 8 broches)"
   ]
  },
  {
   "cell_type": "markdown",
   "id": "b299819a-8214-44d5-b7c1-a5ff30c22180",
   "metadata": {},
   "source": [
    "<center><img src=\"https://github.com/AlexandreBourrieau/FICHIERS/blob/main/Olympidades2024/JetsonPortV.jpg?raw=true\" width=400></center>"
   ]
  },
  {
   "cell_type": "markdown",
   "id": "1c476b55-f7ca-4143-8182-2b307262a83c",
   "metadata": {},
   "source": [
    "Dans le cicuit du jetson nano (SoC), les registres permettant de cibler les broches sont organisés en 8 **GPIO Controller**, et chaque Controller possède 4 sous-groupes (ce qui correspond aux 32 ports précédents). La broche 32 est donc dans le GPIO Controller n°(22/4 + 1) (les GPIO Controller sont numérotés à partir de 1) = 6,5 soit le GPIO Controller n°6, à la 2ème position.  \n",
    "\n",
    "On peut y lire l'offset pour accéder au registre GPIO_CNF_1 qui permettra de configurer cette broche en mode SFIO (Special Function I/O - mode PWM) :"
   ]
  },
  {
   "cell_type": "markdown",
   "id": "e9a4e2ad-b65d-42eb-908f-9712fea8656a",
   "metadata": {},
   "source": [
    "<center><img src=\"https://github.com/AlexandreBourrieau/FICHIERS/blob/main/Olympidades2024/GPIOControllerOffset.jpg?raw=true\" width=600></center>"
   ]
  },
  {
   "cell_type": "markdown",
   "id": "fe20a884-7520-464c-9655-32c35ebcfbb0",
   "metadata": {},
   "source": [
    "Le registre GPIO_CNF_1 est structuré de la manière suivante :"
   ]
  },
  {
   "cell_type": "markdown",
   "id": "23507a8d-2fdf-4de9-807b-526e73fdaf9c",
   "metadata": {},
   "source": [
    "<center><img src=\"https://github.com/AlexandreBourrieau/FICHIERS/blob/main/Olympidades2024/GPIO_CNF.jpg?raw=true\" width=600></center>"
   ]
  },
  {
   "cell_type": "markdown",
   "id": "2da51c3e-81a7-49bb-a997-726607bfe252",
   "metadata": {},
   "source": [
    "Pour activer le mode SFIO sur la broche 0, on doit donc mettre le bit 0 à 0."
   ]
  },
  {
   "cell_type": "markdown",
   "id": "e739ed48-354b-4b0d-befb-e6d77fdcd1a2",
   "metadata": {},
   "source": [
    "L'adresse de base des GPIO est 0x6000d000. Puisque l'offset du resgistre est 504, il faudra donc écrire la valeur à l'adresse 0x6000d504, qui correspond bien à une adresse appartenant au GPIO-6 :"
   ]
  },
  {
   "cell_type": "markdown",
   "id": "5707bdb9-3a99-4f67-82c0-ec4fbe117693",
   "metadata": {},
   "source": [
    "<center><img src=\"https://github.com/AlexandreBourrieau/FICHIERS/blob/main/Olympidades2024/AdresseGPIOg62.jpg?raw=true\" width=600></center>"
   ]
  },
  {
   "cell_type": "markdown",
   "id": "547cd5ce-a48b-4a19-b237-e4a198a063d2",
   "metadata": {},
   "source": [
    "Pour activer le PWM0 sur la broche 32:"
   ]
  },
  {
   "cell_type": "markdown",
   "id": "7fa3e8ed-ab41-4c2a-9285-1fb238c8796b",
   "metadata": {},
   "source": [
    "=> sudo busybox devmem 0x700031fc 32 0x05 $\\;\\;\\;\\;\\;\\;$     *// Ecrit la valeur 0x05 (0000 0101) sur 32bits à l'adresse 0x700031fc*  \n",
    "=> sudo busybox devmem 0x6000d504 32 0x00  $\\;\\;\\;\\;\\;\\;$    *// Ecrit la valeur 0x00 (0000 0000) sur 32bits à l'adresse 0x6000d504*"
   ]
  },
  {
   "cell_type": "markdown",
   "id": "7b849a94-728b-40e5-abb6-8047355a8422",
   "metadata": {},
   "source": [
    "#### Activer les PWM au reboot"
   ]
  },
  {
   "cell_type": "markdown",
   "id": "d2991622-6750-4c4c-827d-d9e065b80259",
   "metadata": {},
   "source": [
    "=> sudo nano /etc/systemd/system/rc-local.service"
   ]
  },
  {
   "cell_type": "markdown",
   "id": "1cc1677d-8620-4896-aaaf-78e3e5ce6db0",
   "metadata": {},
   "source": [
    "Placer le texte suivant dans le fichier:"
   ]
  },
  {
   "cell_type": "markdown",
   "id": "69aa6296-8d17-451e-94d8-c65e31c1eb3c",
   "metadata": {},
   "source": [
    "[Unit]  \n",
    " Description=/etc/rc.local Compatibility  \n",
    " ConditionPathExists=/etc/rc.local  \n",
    "\n",
    "[Service]  \n",
    " Type=forking  \n",
    " ExecStart=/etc/rc.local start  \n",
    " TimeoutSec=0  \n",
    " StandardOutput=tty  \n",
    " RemainAfterExit=yes  \n",
    " SysVStartPriority=99  \n",
    "\n",
    "[Install]  \n",
    " WantedBy=multi-user.target  "
   ]
  },
  {
   "cell_type": "markdown",
   "id": "9e467ba7-3e56-4865-9cba-eaf847892494",
   "metadata": {},
   "source": [
    "=> sudo nano /etc/rc.local"
   ]
  },
  {
   "cell_type": "markdown",
   "id": "58c5d693-b59d-4bda-8961-4e2de1641fa6",
   "metadata": {},
   "source": [
    "Placer le texte suivant dans le fichier:"
   ]
  },
  {
   "cell_type": "markdown",
   "id": "bbc57fdc-76c4-43ef-9be4-19b6a9174ae5",
   "metadata": {},
   "source": [
    "#!/bin/bash\n",
    "\n",
    "sudo busybox devmem 0x700031fc 32 0x05  \n",
    "sudo busybox devmem 0x6000d504 32 0x00  "
   ]
  },
  {
   "cell_type": "markdown",
   "id": "e303ae6f-3e8e-4cc7-8e32-dd9e817f7436",
   "metadata": {},
   "source": [
    "=> sudo chmod +x /etc/rc.local"
   ]
  },
  {
   "cell_type": "markdown",
   "id": "48d939b0-b8ce-48bd-b9dd-562cce139502",
   "metadata": {},
   "source": [
    "=> sudo systemctl enable rc-local"
   ]
  }
 ],
 "metadata": {
  "kernelspec": {
   "display_name": "Python 3",
   "language": "python",
   "name": "python3"
  },
  "language_info": {
   "codemirror_mode": {
    "name": "ipython",
    "version": 3
   },
   "file_extension": ".py",
   "mimetype": "text/x-python",
   "name": "python",
   "nbconvert_exporter": "python",
   "pygments_lexer": "ipython3",
   "version": "3.6.9"
  }
 },
 "nbformat": 4,
 "nbformat_minor": 5
}
