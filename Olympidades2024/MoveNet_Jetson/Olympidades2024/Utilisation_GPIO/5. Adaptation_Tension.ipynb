{
 "cells": [
  {
   "cell_type": "markdown",
   "id": "6f40bd2b-c1e7-4012-9eb6-367d9c8f4312",
   "metadata": {},
   "source": [
    "# Adaptation en tension"
   ]
  },
  {
   "cell_type": "markdown",
   "id": "31fb7105-5f60-47d5-b75a-4f8ad4837ce9",
   "metadata": {},
   "source": [
    "Le signal filtré issu du PWM est compris entre 0V et 3.3V alors que le module Pont en H a besoin d'un signal compris entre 0V et 5V. Pour adapater la tension, on va utiliser un circuit spécifique :"
   ]
  },
  {
   "cell_type": "markdown",
   "id": "03331412-8c11-4422-8cc8-e4a24c2928fd",
   "metadata": {},
   "source": [
    "<center><img src=\"https://github.com/AlexandreBourrieau/FICHIERS/blob/main/Olympidades2024/AdaptationTension.jpg?raw=true\" width=900></center>"
   ]
  },
  {
   "cell_type": "markdown",
   "id": "229c42e5-fae1-49b8-ae4a-925edc67f750",
   "metadata": {},
   "source": [
    "<center><img src=\"https://github.com/AlexandreBourrieau/FICHIERS/blob/main/Olympidades2024/CircuitAdapatationTension.jpg?raw=true\" width=900></center>"
   ]
  }
 ],
 "metadata": {
  "kernelspec": {
   "display_name": "Python 3",
   "language": "python",
   "name": "python3"
  },
  "language_info": {
   "codemirror_mode": {
    "name": "ipython",
    "version": 3
   },
   "file_extension": ".py",
   "mimetype": "text/x-python",
   "name": "python",
   "nbconvert_exporter": "python",
   "pygments_lexer": "ipython3",
   "version": "3.6.9"
  }
 },
 "nbformat": 4,
 "nbformat_minor": 5
}
