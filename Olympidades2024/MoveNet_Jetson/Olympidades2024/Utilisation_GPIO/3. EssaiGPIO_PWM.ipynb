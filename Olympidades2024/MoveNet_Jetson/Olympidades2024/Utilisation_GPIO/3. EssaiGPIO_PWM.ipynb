{
 "cells": [
  {
   "cell_type": "markdown",
   "id": "80a40c24-4506-4383-9e57-c3b6c0b22573",
   "metadata": {},
   "source": [
    "# Utilisation du GPIO pour créer un PWM"
   ]
  },
  {
   "cell_type": "markdown",
   "id": "86f4dd79-45df-4142-8fe6-484d3093f222",
   "metadata": {},
   "source": [
    "Met à jour les règles concernant les droits d'accès aux GPIO par l'utilisateur du linux:"
   ]
  },
  {
   "cell_type": "code",
   "execution_count": 2,
   "id": "01b153ae-60c8-4602-b1ba-e856d7285c99",
   "metadata": {},
   "outputs": [],
   "source": [
    "!sudo /home/jetson/notebook/MajReglesGPIO.sh"
   ]
  },
  {
   "cell_type": "markdown",
   "id": "08807b98-f6e0-4fa4-ae9b-f0c726a9e389",
   "metadata": {},
   "source": [
    "#### Principe de fonctionnement"
   ]
  },
  {
   "cell_type": "markdown",
   "id": "14e14b05-aded-4482-982b-fac298fc11a1",
   "metadata": {
    "tags": []
   },
   "source": [
    "<center><img src=\"https://github.com/AlexandreBourrieau/FICHIERS/blob/main/Olympidades2024/GPIO_PWM_JETSON.jpg?raw=true\" width=700></center>"
   ]
  },
  {
   "cell_type": "markdown",
   "id": "82f8d47d-bc30-43a9-b127-8c8bd531b5e7",
   "metadata": {},
   "source": [
    "=> sudo systemctl enable rc-local"
   ]
  },
  {
   "cell_type": "markdown",
   "id": "452eb4ae-d110-45a3-8601-d3a55bd4cc9f",
   "metadata": {},
   "source": [
    "#### Exemple"
   ]
  },
  {
   "cell_type": "code",
   "execution_count": 3,
   "id": "3b393af1-1ba9-41b4-997c-1e6b1c552eb0",
   "metadata": {},
   "outputs": [],
   "source": [
    "import Jetson.GPIO as GPIO\n",
    "import time\n",
    "\n",
    "GPIO.setmode(GPIO.BOARD)\n",
    "GPIO.setup(32,GPIO.OUT)\n",
    "\n",
    "pwm = GPIO.PWM(32,1000)           # Fréquence 1 kHz\n",
    "pwm.start(75)                     # Rapport cyclique 75%"
   ]
  },
  {
   "cell_type": "markdown",
   "id": "5f582022-7b9f-4bcd-a3d0-44b25b7c56b2",
   "metadata": {},
   "source": [
    "Résultat obtenu :"
   ]
  },
  {
   "cell_type": "markdown",
   "id": "6f96d234-cbd2-4259-9e0e-5fdc466d6384",
   "metadata": {},
   "source": [
    "<center><img src=\"https://github.com/AlexandreBourrieau/FICHIERS/blob/main/Olympidades2024/scope_0.png?raw=true\" width=500></center>"
   ]
  },
  {
   "cell_type": "markdown",
   "id": "98bdecb7-a549-4550-a866-5b333d8272e4",
   "metadata": {},
   "source": [
    "Pour changer la valeur du PWM :"
   ]
  },
  {
   "cell_type": "code",
   "execution_count": 10,
   "id": "e6ae0647-7f20-4f92-837c-7a45545bbb77",
   "metadata": {},
   "outputs": [],
   "source": [
    "pwm.ChangeDutyCycle(55)"
   ]
  },
  {
   "cell_type": "markdown",
   "id": "98db8d5d-1637-4e34-a17c-e67988f7b8b9",
   "metadata": {},
   "source": [
    "On obtient:"
   ]
  },
  {
   "cell_type": "markdown",
   "id": "1e79f560-7c71-43ed-87ee-1b1bb57f2511",
   "metadata": {},
   "source": [
    "<center><img src=\"https://github.com/AlexandreBourrieau/FICHIERS/blob/main/Olympidades2024/scope_1.png?raw=true\" width=500></center>"
   ]
  },
  {
   "cell_type": "markdown",
   "id": "3a16ab1e-0148-4e9e-bb57-56fb033ffe12",
   "metadata": {},
   "source": [
    "**Remarque : Les tensions sont comprises entre 0-3.3V et non entre 0-5V.**"
   ]
  },
  {
   "cell_type": "markdown",
   "id": "f6bd9fa0-4b77-4fd0-ad8b-b667f6fc1b7b",
   "metadata": {},
   "source": [
    "Pour arrêter le GPIO:"
   ]
  },
  {
   "cell_type": "code",
   "execution_count": 4,
   "id": "2d269303-8667-45af-a555-1ceaa571f168",
   "metadata": {},
   "outputs": [],
   "source": [
    "GPIO.cleanup()"
   ]
  },
  {
   "cell_type": "code",
   "execution_count": null,
   "id": "55b7d912-1932-418e-9186-39c952ab553a",
   "metadata": {},
   "outputs": [],
   "source": []
  }
 ],
 "metadata": {
  "kernelspec": {
   "display_name": "Python 3",
   "language": "python",
   "name": "python3"
  },
  "language_info": {
   "codemirror_mode": {
    "name": "ipython",
    "version": 3
   },
   "file_extension": ".py",
   "mimetype": "text/x-python",
   "name": "python",
   "nbconvert_exporter": "python",
   "pygments_lexer": "ipython3",
   "version": "3.6.9"
  }
 },
 "nbformat": 4,
 "nbformat_minor": 5
}
