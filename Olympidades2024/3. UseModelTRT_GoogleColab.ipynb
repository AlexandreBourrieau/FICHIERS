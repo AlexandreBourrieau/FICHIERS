{
  "nbformat": 4,
  "nbformat_minor": 0,
  "metadata": {
    "colab": {
      "provenance": [],
      "machine_shape": "hm",
      "gpuType": "A100"
    },
    "kernelspec": {
      "name": "python3",
      "display_name": "Python 3"
    },
    "language_info": {
      "name": "python"
    },
    "accelerator": "GPU"
  },
  "cells": [
    {
      "cell_type": "code",
      "source": [
        "!pip -q install tensorrt\n",
        "!pip -q install pycuda"
      ],
      "metadata": {
        "id": "rT3p6go_wGX5"
      },
      "execution_count": null,
      "outputs": []
    },
    {
      "cell_type": "markdown",
      "source": [
        "Dans ce Notebook, nous allons étudier comment utiliser un modèle optimisé avec TensorRT à l'aide de Cuda.\n",
        "\n"
      ],
      "metadata": {
        "id": "QTPqwCC_wpuB"
      }
    },
    {
      "cell_type": "code",
      "source": [
        "import tensorflow as tf\n",
        "import numpy as np\n",
        "import cv2\n",
        "import os\n",
        "import shutil\n",
        "\n",
        "from tensorflow import keras\n",
        "from matplotlib import pyplot as plt"
      ],
      "metadata": {
        "id": "HS0yU5HBwCXU"
      },
      "execution_count": null,
      "outputs": []
    },
    {
      "cell_type": "markdown",
      "source": [
        "<center><img src=\"https://github.com/AlexandreBourrieau/FICHIERS/blob/main/Olympidades2024/GestionCuda.jpg?raw=true\" width=800></center>"
      ],
      "metadata": {
        "id": "bHDFo6pZODue"
      }
    },
    {
      "cell_type": "markdown",
      "source": [
        "### Chargement du moteur (engine)"
      ],
      "metadata": {
        "id": "QqDwwwm5wsCM"
      }
    },
    {
      "cell_type": "markdown",
      "source": [
        "On commence par créer une instance de logger qui va nous permettre d'afficher les informations pendant l'utilisation du moteur."
      ],
      "metadata": {
        "id": "spm7YzQJwyp1"
      }
    },
    {
      "cell_type": "code",
      "source": [
        "import tensorrt as trt\n",
        "\n",
        "# Construction de la class du logger\n",
        "class MyLogger(trt.ILogger):\n",
        "    def __init__(self):\n",
        "        trt.ILogger.__init__(self)\n",
        "\n",
        "    def log(self, severity, msg):\n",
        "        print(\"%s : %s\" %(severity,msg))\n",
        "        pass"
      ],
      "metadata": {
        "id": "7W2L6Xh1wE2V"
      },
      "execution_count": null,
      "outputs": []
    },
    {
      "cell_type": "markdown",
      "source": [
        " Ensuite, on créé un ``runtime`` (environnement de travail) pour notre modèle puis on charge le moteur à l'aide de la fonction ``deserialize_cuda_engine`` que nous porpose ce runtime."
      ],
      "metadata": {
        "id": "9PGlb8Bhw0g2"
      }
    },
    {
      "cell_type": "code",
      "source": [
        "import pycuda.driver as cuda\n",
        "import pycuda.autoinit\n",
        "\n",
        "PRECISION = trt.int32\n",
        "\n",
        "logger = MyLogger()\n",
        "runtime = trt.Runtime(logger)\n",
        "trt.init_libnvinfer_plugins(logger, namespace=\"\")\n",
        "\n",
        "with open(\"/content/model.engine\", \"rb\") as f:\n",
        "    engine = runtime.deserialize_cuda_engine(f.read())"
      ],
      "metadata": {
        "id": "uy3ibZCWwfOU"
      },
      "execution_count": null,
      "outputs": []
    },
    {
      "cell_type": "markdown",
      "source": [
        " ### Création du contexte"
      ],
      "metadata": {
        "id": "bDAHF_ylyV6g"
      }
    },
    {
      "cell_type": "markdown",
      "source": [
        "Ensuite, il faut créer un contexte nécessaire pour lancer le modèle. Ce contexte va allouer une certaine quantité de mémoire afin de pouvoir travailler avec notre mmoteur."
      ],
      "metadata": {
        "id": "n3MGtl2PyXtA"
      }
    },
    {
      "cell_type": "code",
      "source": [
        "context = engine.create_execution_context()"
      ],
      "metadata": {
        "id": "bwJpEUifyZBn"
      },
      "execution_count": null,
      "outputs": []
    },
    {
      "cell_type": "markdown",
      "source": [
        "### Allocation de l'espace mémoire hôte et GPU"
      ],
      "metadata": {
        "id": "TCb-68EnybiR"
      }
    },
    {
      "cell_type": "markdown",
      "source": [
        "Nous allons devoir allouer de l'espace en mémoire sur **l'hote** et sur le **GPU** pour réaliser des transferts de données entre eux.\n",
        "Commençons par regarder combien de mémoire nous avons en GPU :"
      ],
      "metadata": {
        "id": "44hOPgnXydD-"
      }
    },
    {
      "cell_type": "code",
      "source": [
        "cuda.mem_get_info()"
      ],
      "metadata": {
        "id": "cRTifwHjyegs"
      },
      "execution_count": null,
      "outputs": []
    },
    {
      "cell_type": "markdown",
      "source": [
        "Pour transférer des données entre l'hôte et le GPU, celles-ci doivent être transférées depuis un espace mémoire paginé vérrouillé de l'hôte. On va donc devoir réserver un espace mémoire sur l'hôte et le vérrouiller (cet espace ne pourra pas servir à autre chose et donc ne pourra pas être utlisé par un autre processus).\n",
        "\n",
        "Les étapes à suivre pour utliser notre moteur sont les suivantes :\n",
        "- Réserver un espace mémoire vérrouillé sur l'hote pour y placer l'entrée (**input_host_mem**) et la sortie du modèle (**output_host_mem**)\n",
        "- Réserver un espace mémoire dans le GPU pour y placer ces mêmes informations (**input_device_mem** et **output_device_mem**)\n",
        "- Placer les données d'entrées du modèle (notre image) dans l'espace mémoire hôte vérrouillé qu'on a pris soin de réserver au préalable (**input_host_mem**)\n",
        "- Transférer le contenu de cet espace mémoire vers la mémoire du GPU (**input_device_mem**)\n",
        "- Lancer les calculs avec le modèle TensorRT qu'on a défini ; les résultats seront écrits dans la mémoire du GPU (**output_device_mem**)\n",
        "- Transférer les résultats de la mémoire GPU (**output_device_mem**) vers la mémoire vérrouillées de l'hote (**output_host_mem**)"
      ],
      "metadata": {
        "id": "E8R3r7RXyj0G"
      }
    },
    {
      "cell_type": "markdown",
      "source": [
        "On peut trouver des informations sur le format des tenseurs en entrée et en sortie de notre moteur :"
      ],
      "metadata": {
        "id": "zI0Z8yqyylne"
      }
    },
    {
      "cell_type": "code",
      "source": [
        "for binding in engine:\n",
        "    print(binding)\n",
        "    print(engine.get_tensor_shape(binding))\n",
        "    print(trt.nptype(engine.get_tensor_dtype(binding)))"
      ],
      "metadata": {
        "id": "jbJu2IH_ynE-"
      },
      "execution_count": null,
      "outputs": []
    },
    {
      "cell_type": "code",
      "source": [
        "engine.get_tensor_shape(\"input\")"
      ],
      "metadata": {
        "id": "yj-iXvwbzOt1"
      },
      "execution_count": null,
      "outputs": []
    },
    {
      "cell_type": "markdown",
      "source": [
        "On va donc utiliser ces informations pour allouer les espaces en mémoire hôte et GPU :"
      ],
      "metadata": {
        "id": "JUx7BcXLyvHI"
      }
    },
    {
      "cell_type": "code",
      "source": [
        "# Réservation de la mémoire pour l'entrée\n",
        "size_input = trt.volume(engine.get_tensor_shape(\"input\"))\n",
        "input_host_mem = cuda.pagelocked_empty(size_input, trt.nptype(PRECISION))\n",
        "input_device_mem = cuda.mem_alloc(input_host_mem.nbytes)"
      ],
      "metadata": {
        "id": "4r5agnDZywUo"
      },
      "execution_count": null,
      "outputs": []
    },
    {
      "cell_type": "code",
      "source": [
        "# Réservation de la mémoire pour les sorties\n",
        "output_device_mem = [];\n",
        "format_sorties = [];\n",
        "types_sorties = [];\n",
        "\n",
        "size_output = trt.volume(engine.get_tensor_shape(\"output_0\"))\n",
        "output_host_mem = cuda.pagelocked_empty(size_output, trt.nptype(PRECISION))\n",
        "output_device_mem.append(cuda.mem_alloc(output_host_mem.nbytes))\n",
        "format_sorties.append(engine.get_tensor_shape(\"output_0\"))\n",
        "types_sorties.append(trt.nptype(engine.get_tensor_dtype(\"output_0\")))"
      ],
      "metadata": {
        "id": "O98UDiHA0UwS"
      },
      "execution_count": null,
      "outputs": []
    },
    {
      "cell_type": "markdown",
      "source": [
        "Il faut maintenant récupérer les adresses mémoires GPU. Ces adresses seront utiles au contexte de TensorRT précédemment ouvert pour pouvoir exécuter le modèle."
      ],
      "metadata": {
        "id": "HSw__L7I0tim"
      }
    },
    {
      "cell_type": "code",
      "source": [
        "# Récupère les adresses en GPU des buffers entrées / sorties\n",
        "binding_entree = int(input_device_mem)\n",
        "\n",
        "binding_sorties = []\n",
        "for output_ in output_device_mem:\n",
        "    binding_sorties.append(int(output_))"
      ],
      "metadata": {
        "id": "aSwI5P5V0vOw"
      },
      "execution_count": null,
      "outputs": []
    },
    {
      "cell_type": "markdown",
      "source": [
        "### Exécution d'une prédiction"
      ],
      "metadata": {
        "id": "_U4b-3pI0yLW"
      }
    },
    {
      "cell_type": "markdown",
      "source": [
        "On commence par récupérer une image du dataset :"
      ],
      "metadata": {
        "id": "ybfzUVfR00Qg"
      }
    },
    {
      "cell_type": "code",
      "source": [
        "image = tf.keras.preprocessing.image.load_img(\"/content/Yoga.jpg\",target_size=(192, 192))\n",
        "image"
      ],
      "metadata": {
        "id": "Q2_NfpTT01-s"
      },
      "execution_count": null,
      "outputs": []
    },
    {
      "cell_type": "markdown",
      "source": [
        "Puis on convertit cette image en tenseur :"
      ],
      "metadata": {
        "id": "QL7ffgnR1BDu"
      }
    },
    {
      "cell_type": "markdown",
      "source": [
        "On copie maintenant ce tenseur dans l'espace mémoire d'entrée de l'hôte. Le tenseur est applati à l'aide de la fonction ``ravel()``:"
      ],
      "metadata": {
        "id": "kaqcQVxi1FLo"
      }
    },
    {
      "cell_type": "code",
      "source": [
        "image = np.expand_dims(image,axis=0)                          # (1,192,192,3)\n",
        "image = image.astype(np.int32)\n",
        "np.copyto(input_host_mem,image.ravel())"
      ],
      "metadata": {
        "id": "5hbAq-WG1JL2"
      },
      "execution_count": null,
      "outputs": []
    },
    {
      "cell_type": "code",
      "source": [
        "image"
      ],
      "metadata": {
        "id": "Ecx7nYmO_emQ"
      },
      "execution_count": null,
      "outputs": []
    },
    {
      "cell_type": "markdown",
      "source": [
        "Transfert les données de l'image vers la mémoire GPU (transfert Host => Device) :"
      ],
      "metadata": {
        "id": "Lw8LRlYN1Laq"
      }
    },
    {
      "cell_type": "code",
      "source": [
        "cuda.memcpy_htod(input_device_mem, input_host_mem)"
      ],
      "metadata": {
        "id": "mFC6dLiu1NEm"
      },
      "execution_count": null,
      "outputs": []
    },
    {
      "cell_type": "markdown",
      "source": [
        "Exécution du modèle :"
      ],
      "metadata": {
        "id": "ir2FR9HO1O-8"
      }
    },
    {
      "cell_type": "code",
      "source": [
        "bindings = [binding_entree, binding_sorties[0]]"
      ],
      "metadata": {
        "id": "Z0nP7uHU1QF6"
      },
      "execution_count": null,
      "outputs": []
    },
    {
      "cell_type": "code",
      "source": [
        "bindings"
      ],
      "metadata": {
        "id": "cedfI4eN1U22"
      },
      "execution_count": null,
      "outputs": []
    },
    {
      "cell_type": "code",
      "source": [
        "context.execute_v2(bindings=bindings)"
      ],
      "metadata": {
        "id": "KR-MtLCx1W5k"
      },
      "execution_count": null,
      "outputs": []
    },
    {
      "cell_type": "markdown",
      "source": [
        "On transfert le résultat stocké en mémoire GPU vers la mémoire destination de l'hôte :"
      ],
      "metadata": {
        "id": "yduffqcC1t9F"
      }
    },
    {
      "cell_type": "code",
      "source": [
        "output_device_mem"
      ],
      "metadata": {
        "id": "FFVctR8w1v4b"
      },
      "execution_count": null,
      "outputs": []
    },
    {
      "cell_type": "code",
      "source": [
        "output_host_mem = []\n",
        "for i in range(len(output_device_mem)):\n",
        "    output_host_mem.append(np.zeros(format_sorties[i],types_sorties[i]))\n",
        "\n",
        "for i in range(len(output_host_mem)):\n",
        "    cuda.memcpy_dtoh(output_host_mem[i], output_device_mem[i])\n",
        "output_host_mem"
      ],
      "metadata": {
        "id": "ntRDzcQ61yo3"
      },
      "execution_count": null,
      "outputs": []
    },
    {
      "cell_type": "markdown",
      "source": [
        "## Visualisation du résultat"
      ],
      "metadata": {
        "id": "cfkL6LB312NA"
      }
    },
    {
      "cell_type": "markdown",
      "source": [
        "**Outputs**"
      ],
      "metadata": {
        "id": "I11rc7Nq2mPt"
      }
    },
    {
      "cell_type": "markdown",
      "source": [
        "A float32 tensor of shape [1, 1, 17, 3]."
      ],
      "metadata": {
        "id": "mWAvegpL2pbP"
      }
    },
    {
      "cell_type": "markdown",
      "source": [
        "* The first two channels of the last dimension represents the yx coordinates (normalized to image frame, i.e. range in [0.0, 1.0]) of the 17 keypoints:\n",
        "  * 0: nose,\n",
        "  * 1, 2 : left eye, right eye,\n",
        "  * 3, 4 : left ear, right ear\n",
        "  * 5, 6 : left shoulder, right shoulder\n",
        "  * 7, 8 : left elbow, right elbow\n",
        "  * 9, 10 : left wrist, right wrist\n",
        "  * 11, 12 : left hip, right hip\n",
        "  * 13, 14 : left knee, right knee\n",
        "  * 15, 16 : left ankle, right ankle\n",
        "\n",
        "* The third channel of the last dimension represents the prediction confidence scores of each keypoint, also in the range [0.0, 1.0]."
      ],
      "metadata": {
        "id": "ZgorGjjc2rbf"
      }
    },
    {
      "cell_type": "markdown",
      "source": [
        "<center><img src=\"https://github.com/AlexandreBourrieau/FICHIERS/blob/main/Olympidades2024/keypoints.png?raw=true\" width=500></center>"
      ],
      "metadata": {
        "id": "yWZLOw4H3E6T"
      }
    },
    {
      "cell_type": "code",
      "source": [
        "# Par exemple, pour obtenir la coordonnée X de l'oeuil gauche :\n",
        "output_host_mem[0][0][0][1][0]"
      ],
      "metadata": {
        "id": "iE04tQFL3o9Z"
      },
      "execution_count": null,
      "outputs": []
    },
    {
      "cell_type": "code",
      "source": [
        "# Par exemple, pour obtenir la coordonnée Y de l'oeuil gauche :\n",
        "output_host_mem[0][0][0][1][1]"
      ],
      "metadata": {
        "id": "Y1FoTrM43__5"
      },
      "execution_count": null,
      "outputs": []
    },
    {
      "cell_type": "code",
      "source": [
        "# Par exemple, pour obtenir la coordonnée X du nez :\n",
        "output_host_mem[0][0][0][0][0]"
      ],
      "metadata": {
        "id": "6XHNc5Wx4SQc"
      },
      "execution_count": null,
      "outputs": []
    },
    {
      "cell_type": "code",
      "source": [
        "# Par exemple, pour obtenir la coordonnée Y du nez :\n",
        "output_host_mem[0][0][0][0][1]"
      ],
      "metadata": {
        "id": "vKlEDajQ4XTL"
      },
      "execution_count": null,
      "outputs": []
    },
    {
      "cell_type": "code",
      "source": [
        "output_host_mem[0][0][0][:][:]"
      ],
      "metadata": {
        "id": "RIzs5jkP4bUb"
      },
      "execution_count": null,
      "outputs": []
    },
    {
      "cell_type": "code",
      "source": [
        "toto =output_host_mem[0][0][0][:][:]\n",
        "toto[0]"
      ],
      "metadata": {
        "id": "vlM9Yhke4zDC"
      },
      "execution_count": null,
      "outputs": []
    },
    {
      "cell_type": "code",
      "source": [
        "import cv2\n",
        "\n",
        "def draw_points(img_cv2, coordonneesXY, line_width=1):\n",
        "    width, height = (800,800)\n",
        "\n",
        "    # Place les points\n",
        "    for point in coordonneesXY:\n",
        "      pt_Y = point[0]\n",
        "      pt_X = point[1]\n",
        "\n",
        "      # Calcule la position du point sur l'image\n",
        "      pt_image_X = pt_X * width\n",
        "      pt_image_Y = pt_Y * height\n",
        "\n",
        "      # Affiche le point sur l'image\n",
        "      img = cv2.circle(img_cv2, (int(pt_image_X),int(pt_image_Y)), radius=2, color=(0, 0, 255), thickness=-1)\n",
        "\n",
        "    return img\n",
        "\n",
        "image = cv2.imread(\"/content/Yoga.jpg\")\n",
        "image = cv2.resize(image,(int(800),int(800)),3)\n",
        "\n",
        "draw_image = draw_points(image, output_host_mem[0][0][0][:][:])\n",
        "draw_image"
      ],
      "metadata": {
        "id": "TYviV_1O6-AM"
      },
      "execution_count": null,
      "outputs": []
    },
    {
      "cell_type": "code",
      "source": [
        "import cv2\n",
        "\n",
        "def draw_lines(img_cv2, coordonneesXY, line_width=1):\n",
        "    width, height = (600,600)\n",
        "\n",
        "    nez = [int(coordonneesXY[0][1]*width),int(coordonneesXY[0][0]*height)]\n",
        "    oeuil_gauche = [int(coordonneesXY[1][1]*width),int(coordonneesXY[1][0]*height)]\n",
        "    oeuil_droit = [int(coordonneesXY[2][1]*width),int(coordonneesXY[2][0]*height)]\n",
        "    oreille_gauche = [int(coordonneesXY[3][1]*width),int(coordonneesXY[3][0]*height)]\n",
        "    oreille_droite = [int(coordonneesXY[4][1]*width),int(coordonneesXY[4][0]*height)]\n",
        "    epaule_gauche = [int(coordonneesXY[5][1]*width),int(coordonneesXY[5][0]*height)]\n",
        "    epaule_droite = [int(coordonneesXY[6][1]*width),int(coordonneesXY[6][0]*height)]\n",
        "    coude_gauche = [int(coordonneesXY[7][1]*width),int(coordonneesXY[7][0]*height)]\n",
        "    coude_droite = [int(coordonneesXY[8][1]*width),int(coordonneesXY[8][0]*height)]\n",
        "    poignet_gauche = [int(coordonneesXY[9][1]*width),int(coordonneesXY[9][0]*height)]\n",
        "    poignet_droite = [int(coordonneesXY[10][1]*width),int(coordonneesXY[10][0]*height)]\n",
        "    hanche_gauche = [int(coordonneesXY[11][1]*width),int(coordonneesXY[11][0]*height)]\n",
        "    hanche_droite = [int(coordonneesXY[12][1]*width),int(coordonneesXY[12][0]*height)]\n",
        "    genou_gauche = [int(coordonneesXY[13][1]*width),int(coordonneesXY[13][0]*height)]\n",
        "    genou_droite = [int(coordonneesXY[14][1]*width),int(coordonneesXY[14][0]*height)]\n",
        "    cheville_gauche = [int(coordonneesXY[15][1]*width),int(coordonneesXY[15][0]*height)]\n",
        "    cheville_droite = [int(coordonneesXY[16][1]*width),int(coordonneesXY[16][0]*height)]\n",
        "\n",
        "\n",
        "    centre_yeux = [((int(0.5*(coordonneesXY[1][1]*width+int(coordonneesXY[2][1]*width))))),((int(0.5*(coordonneesXY[1][0]*height+int(coordonneesXY[2][0]*height)))))]\n",
        "    centre_epaules = [((int(0.5*(coordonneesXY[5][1]*width+int(coordonneesXY[6][1]*width))))),((int(0.5*(coordonneesXY[5][0]*height+int(coordonneesXY[6][0]*height)))))]\n",
        "    centre_hanches =  [((int(0.5*(coordonneesXY[11][1]*width+int(coordonneesXY[12][1]*width))))),((int(0.5*(coordonneesXY[11][0]*height+int(coordonneesXY[12][0]*height)))))]\n",
        "\n",
        "\n",
        "    # Lignes nez-centre des yeux\n",
        "    img = cv2.line(img_cv2, (nez[0],nez[1]),(centre_yeux[0],centre_yeux[1]),color=(0, 0, 255), thickness=2)\n",
        "\n",
        "    # Lignes centre des yeux - oueil gauche\n",
        "    img = cv2.line(img_cv2, (oeuil_gauche[0],oeuil_gauche[1]),(centre_yeux[0],centre_yeux[1]),color=(0, 0, 255), thickness=2)\n",
        "\n",
        "    # Lignes centre des yeux - oueil droit\n",
        "    img = cv2.line(img_cv2, (oeuil_droit[0],oeuil_droit[1]),(centre_yeux[0],centre_yeux[1]),color=(0, 0, 255), thickness=2)\n",
        "\n",
        "    # Lignes oeuil_gauche - oreille gauche\n",
        "    img = cv2.line(img_cv2, (oeuil_gauche[0],oeuil_gauche[1]),(oreille_gauche[0],oreille_gauche[1]),color=(0, 0, 255), thickness=2)\n",
        "\n",
        "    # Lignes oeuil_droit - oreille droite\n",
        "    img = cv2.line(img_cv2, (oeuil_droit[0],oeuil_droit[1]),(oreille_droite[0],oreille_droite[1]),color=(0, 0, 255), thickness=2)\n",
        "\n",
        "    # Lignes nez-centre_epaules\n",
        "    img = cv2.line(img_cv2, (nez[0],nez[1]),(centre_epaules[0],centre_epaules[1]),color=(0, 0, 255), thickness=2)\n",
        "\n",
        "    # Ligne centre_epaules - epaule_droit\n",
        "    img = cv2.line(img_cv2, (epaule_droite[0],epaule_droite[1]),(centre_epaules[0],centre_epaules[1]),color=(0, 0, 255), thickness=2)\n",
        "\n",
        "    # Ligne centre_epaules - epaule_gauche\n",
        "    img = cv2.line(img_cv2, (epaule_gauche[0],epaule_gauche[1]),(centre_epaules[0],centre_epaules[1]),color=(0, 0, 255), thickness=2)\n",
        "\n",
        "    # Ligne épaule_gauche - coude_gouche\n",
        "    img = cv2.line(img_cv2, (epaule_gauche[0],epaule_gauche[1]),(coude_gauche[0],coude_gauche[1]),color=(0, 0, 255), thickness=2)\n",
        "\n",
        "    # Ligne coude_gouche - poignet_gauche\n",
        "    img = cv2.line(img_cv2, (poignet_gauche[0],poignet_gauche[1]),(coude_gauche[0],coude_gauche[1]),color=(0, 0, 255), thickness=2)\n",
        "\n",
        "    # Ligne épaule_droite - coude_doit\n",
        "    img = cv2.line(img_cv2, (epaule_droite[0],epaule_droite[1]),(coude_droite[0],coude_droite[1]),color=(0, 0, 255), thickness=2)\n",
        "\n",
        "    # Ligne coude_droite - poignet_droite\n",
        "    img = cv2.line(img_cv2, (poignet_droite[0],poignet_droite[1]),(coude_droite[0],coude_droite[1]),color=(0, 0, 255), thickness=2)\n",
        "\n",
        "    # Ligne centre_epaules - centre_hanche\n",
        "    img = cv2.line(img_cv2, (centre_hanches[0],centre_hanches[1]),(centre_epaules[0],centre_epaules[1]),color=(0, 0, 255), thickness=2)\n",
        "\n",
        "    # Ligne centre_hanche - hanche_gauche\n",
        "    img = cv2.line(img_cv2, (centre_hanches[0],centre_hanches[1]),(hanche_gauche[0],hanche_gauche[1]),color=(0, 0, 255), thickness=2)\n",
        "\n",
        "    # Ligne centre_hanche - hanche_gauche\n",
        "    img = cv2.line(img_cv2, (centre_hanches[0],centre_hanches[1]),(hanche_droite[0],hanche_droite[1]),color=(0, 0, 255), thickness=2)\n",
        "\n",
        "    # Ligne hanche_gauche - genou_gauche\n",
        "    img = cv2.line(img_cv2, (genou_gauche[0],genou_gauche[1]),(hanche_gauche[0],hanche_gauche[1]),color=(0, 0, 255), thickness=2)\n",
        "\n",
        "    # Ligne hanche_droite - genou_droite\n",
        "    img = cv2.line(img_cv2, (genou_droite[0],genou_droite[1]),(hanche_droite[0],hanche_droite[1]),color=(0, 0, 255), thickness=2)\n",
        "\n",
        "    # Ligne genou_droite - cheville_droite\n",
        "    img = cv2.line(img_cv2, (genou_droite[0],genou_droite[1]),(cheville_droite[0],cheville_droite[1]),color=(0, 0, 255), thickness=2)\n",
        "\n",
        "    # Ligne genou_gauche - cheville_gauche\n",
        "    img = cv2.line(img_cv2, (genou_gauche[0],genou_gauche[1]),(cheville_gauche[0],cheville_gauche[1]),color=(0, 0, 255), thickness=2)\n",
        "\n",
        "    return img\n",
        "\n",
        "image = cv2.imread(\"/content/Yoga.jpg\")\n",
        "image = cv2.resize(image,(int(600),int(600)),3)\n",
        "\n",
        "draw_image = draw_lines(image, output_host_mem[0][0][0][:][:])\n",
        "draw_image"
      ],
      "metadata": {
        "id": "_EyEGWuIBrz9"
      },
      "execution_count": null,
      "outputs": []
    },
    {
      "cell_type": "markdown",
      "source": [
        "Enfin pour terminer, on libère la mémoire allouée :"
      ],
      "metadata": {
        "id": "xTC9YbMb2UMT"
      }
    },
    {
      "cell_type": "code",
      "source": [
        "input_device_mem.free()\n",
        "for i in range(len(output_device_mem)):\n",
        "    output_device_mem[i].free()\n",
        "del input_host_mem\n",
        "del output_host_mem\n",
        "del context\n",
        "del engine"
      ],
      "metadata": {
        "id": "5-5bSQL02VaK"
      },
      "execution_count": null,
      "outputs": []
    }
  ]
}